{
  "nbformat": 4,
  "nbformat_minor": 0,
  "metadata": {
    "colab": {
      "provenance": [],
      "toc_visible": true,
      "authorship_tag": "ABX9TyPV4x6ATQQKN7y2N2/ry+by",
      "include_colab_link": true
    },
    "kernelspec": {
      "name": "python3",
      "display_name": "Python 3"
    },
    "language_info": {
      "name": "python"
    }
  },
  "cells": [
    {
      "cell_type": "markdown",
      "metadata": {
        "id": "view-in-github",
        "colab_type": "text"
      },
      "source": [
        "<a href=\"https://colab.research.google.com/github/DilliKafley/Entropy/blob/main/ocr.ipynb\" target=\"_parent\"><img src=\"https://colab.research.google.com/assets/colab-badge.svg\" alt=\"Open In Colab\"/></a>"
      ]
    },
    {
      "cell_type": "code",
      "execution_count": 2,
      "metadata": {
        "id": "9euHonp18GJL"
      },
      "outputs": [],
      "source": [
        "# import necessary packages\n",
        "import json\n",
        "import re\n",
        "\n",
        "def process_ocr(json_path, ocr_path):\n",
        "    def convert_json_to_dict(json_file_path):\n",
        "        # Load JSON data from file\n",
        "        with open(json_file_path, 'r') as file:\n",
        "            data = json.load(file)\n",
        "\n",
        "        # Initialize an empty dictionary to store the result\n",
        "        result_dict = {}\n",
        "\n",
        "        # Iterate through each item in the JSON data\n",
        "        for item in data:\n",
        "            abbreviation = item['Abbreviation']\n",
        "            synonyms = item['Synonyms']\n",
        "\n",
        "            # Check if the abbreviation is already in the result dictionary\n",
        "            if abbreviation in result_dict:\n",
        "                # If it is, extend the list of synonyms\n",
        "                result_dict[abbreviation].extend(synonyms)\n",
        "            else:\n",
        "                # If not, add the abbreviation as a key and the list of synonyms as its value\n",
        "                result_dict[abbreviation] = synonyms\n",
        "\n",
        "        return result_dict\n",
        "\n",
        "    def extracted_list(ocr_path):\n",
        "        with open(ocr_path, 'r') as file:\n",
        "            data = file.read()\n",
        "            pattern = r'.*\\d+.*'\n",
        "            my_list = re.findall(pattern, data)\n",
        "        return my_list\n",
        "\n",
        "    def extract_items(converted_dict, extracted_list):\n",
        "        extracted_items = []\n",
        "        for item in extracted_list:\n",
        "            item_lower = item.lower()\n",
        "            for key, value in converted_dict.items():\n",
        "                key_lower = key.lower()\n",
        "                # Check if the key or any value is a whole word in the sentence\n",
        "                pattern = r'\\b{}\\b'.format(re.escape(key_lower))\n",
        "                if (re.search(pattern, item_lower) or\n",
        "                    any(re.search(r'\\b{}\\b'.format(re.escape(val.lower())), item_lower) for val in value)):\n",
        "                    extracted_items.append(item)\n",
        "                    break\n",
        "        return extracted_items\n",
        "\n",
        "    def replace_words_in_list(extracted_items, converted_dict):\n",
        "        replaced_list = []\n",
        "        for sentence in extracted_items:\n",
        "            words = sentence.split()\n",
        "            new_words = []\n",
        "            for word in words:\n",
        "                if word in converted_dict:  # If word is a key in the dictionary\n",
        "                    new_word = converted_dict[word][0]  # Replace with the first element of the corresponding key's value\n",
        "                else:\n",
        "                    new_word = word\n",
        "                    for key, values in converted_dict.items():\n",
        "                        if word in values[1:]:  # Check if word is in any value other than the first one\n",
        "                            new_word = values[0]  # Replace with the first element of the corresponding key's value\n",
        "                            break\n",
        "\n",
        "                new_words.append(new_word)\n",
        "            new_sentence = ' '.join(new_words)\n",
        "            replaced_list.append(new_sentence)\n",
        "        return replaced_list\n",
        "    def convert_to_dict(data):\n",
        "\n",
        "      output = []\n",
        "      for item in data:\n",
        "\n",
        "        # Search for parameter, value, and unit patterns\n",
        "          match = re.search(r\"(.+)\\s+(\\d+)\\s+([\\w\\s\\/*\\-]+)\\b\", item)\n",
        "          if match:\n",
        "\n",
        "              parameter = match.group(1).strip()  # Capture everything before the numbers\n",
        "              value = float(match.group(2))\n",
        "              unit = match.group(3).strip()\n",
        "              output.append({'parameter': parameter, 'value': value, 'unit': unit})\n",
        "      return output\n",
        "\n",
        "\n",
        "    def handle_units(data):\n",
        "      output = []\n",
        "      for item in data:\n",
        "        parameter, value, unit = item['parameter'], item['value'], item['unit']\n",
        "\n",
        "        # Remove digits from parameter\n",
        "        parameter = re.sub(r'\\d+', '', parameter).strip()\n",
        "\n",
        "        # Handle unit cases\n",
        "        if unit.isdigit():  # Check if unit contains only digits\n",
        "            unit = 'NA'\n",
        "        else:\n",
        "            unit = unit.strip()  # Keep unit as string\n",
        "\n",
        "        output.append({'parameter': parameter, 'value': value, 'unit': unit})\n",
        "      return output\n",
        "\n",
        "\n",
        "\n",
        "\n",
        "\n",
        "    # Call inner functions\n",
        "    converted_dict = convert_json_to_dict(json_path)\n",
        "    items_list = extracted_list(ocr_path)\n",
        "    extracted_items = extract_items(converted_dict, items_list)\n",
        "    replaced_list = replace_words_in_list(extracted_items, converted_dict)\n",
        "\n",
        "    pattern = re.compile(r'\\bnil\\b', re.IGNORECASE) # some measurements are nil so replaced nil with 0\n",
        "\n",
        "    replaced_list = [re.sub(pattern,'0',text) for text in replaced_list]\n",
        "    replaced_list = [re.sub(r'\\(.*?\\d+.*?\\)','',text) for text in replaced_list]\n",
        "    final_dictionary = convert_to_dict(replaced_list)\n",
        "    units_handled = handle_units(final_dictionary)\n",
        "\n",
        "    return units_handled"
      ]
    },
    {
      "cell_type": "code",
      "source": [],
      "metadata": {
        "id": "pNLA2kvg81HX"
      },
      "execution_count": null,
      "outputs": []
    },
    {
      "cell_type": "markdown",
      "source": [
        "# Demo\n"
      ],
      "metadata": {
        "id": "MKXjMmwA91dl"
      }
    },
    {
      "cell_type": "code",
      "source": [
        "demo = process_ocr('/content/sample_data/X1.json','/content/sample_data/ocr1.txt')\n",
        "demo"
      ],
      "metadata": {
        "colab": {
          "base_uri": "https://localhost:8080/"
        },
        "id": "gT5XVa9197ra",
        "outputId": "db99fb26-4298-404f-f5c9-6276e4575489"
      },
      "execution_count": 4,
      "outputs": [
        {
          "output_type": "execute_result",
          "data": {
            "text/plain": [
              "[{'parameter': 'pH  Protein', 'value': 0.0, 'unit': 'Glucose 0'},\n",
              " {'parameter': 'Red Blood Cell Count H', 'value': 14.0, 'unit': 'x10*6/L'},\n",
              " {'parameter': 'Rubella gamma globulin (CMIA)',\n",
              "  'value': 11.0,\n",
              "  'unit': 'IU/mL'},\n",
              " {'parameter': 'Sodium  L', 'value': 140.0, 'unit': 'mmol/L'},\n",
              " {'parameter': 'Chloride', 'value': 106.0, 'unit': 'mmol/L'},\n",
              " {'parameter': 'carbon dioxide', 'value': 25.0, 'unit': 'mmol/L'},\n",
              " {'parameter': 'creatine', 'value': 65.0, 'unit': 'umol/L'},\n",
              " {'parameter': 'Bili.Total  H  H', 'value': 18.0, 'unit': 'umol/L'},\n",
              " {'parameter': 'alkaline phosphatase', 'value': 70.0, 'unit': 'U/L'},\n",
              " {'parameter': 'gamma-glutamyltransferase', 'value': 15.0, 'unit': 'U/L'},\n",
              " {'parameter': 'aspartate transaminase', 'value': 23.0, 'unit': 'U/L'},\n",
              " {'parameter': 'alanine transaminase', 'value': 22.0, 'unit': 'U/L'},\n",
              " {'parameter': 'Total Protein', 'value': 72.0, 'unit': 'g/L'},\n",
              " {'parameter': 'Albumin', 'value': 46.0, 'unit': 'g/L'},\n",
              " {'parameter': 'Ferritin', 'value': 47.0, 'unit': 'ug/L'},\n",
              " {'parameter': 'hemoglobin', 'value': 134.0, 'unit': 'g/L'},\n",
              " {'parameter': 'Mean Corpuscular Volume', 'value': 87.0, 'unit': 'NA'},\n",
              " {'parameter': 'Mean Corpuscular Hemoglobin Concentration',\n",
              "  'value': 325.0,\n",
              "  'unit': 'g/L'},\n",
              " {'parameter': 'Platelet Count', 'value': 261.0, 'unit': 'x10*9/L'},\n",
              " {'parameter': 'erythrocyte sedimentation rate', 'value': 1.0, 'unit': 'mm/h'},\n",
              " {'parameter': 'Vitamin D', 'value': 83.0, 'unit': 'nmol/L'},\n",
              " {'parameter': 'hemoglobin', 'value': 134.0, 'unit': 'g/L'},\n",
              " {'parameter': 'Mean Corpuscular Volume', 'value': 92.0, 'unit': 'fL'},\n",
              " {'parameter': 'Mean Corpuscular Hemoglobin Concentration',\n",
              "  'value': 325.0,\n",
              "  'unit': 'g/L'},\n",
              " {'parameter': 'Platelet Count', 'value': 261.0, 'unit': 'x10*9/L'},\n",
              " {'parameter': 'erythrocyte sedimentation rate', 'value': 1.0, 'unit': 'mm/h'},\n",
              " {'parameter': 'Sodium  L', 'value': 140.0, 'unit': 'mmol/L'},\n",
              " {'parameter': 'Chloride', 'value': 106.0, 'unit': 'mmol/L'},\n",
              " {'parameter': 'carbon dioxide', 'value': 25.0, 'unit': 'mmol/L'},\n",
              " {'parameter': 'creatine', 'value': 65.0, 'unit': 'umol/L'},\n",
              " {'parameter': 'Bili.Total  H  H', 'value': 18.0, 'unit': 'umol/L'},\n",
              " {'parameter': 'alkaline phosphatase', 'value': 70.0, 'unit': 'U/L'},\n",
              " {'parameter': 'gamma-glutamyltransferase', 'value': 15.0, 'unit': 'U/L'},\n",
              " {'parameter': 'aspartate transaminase', 'value': 23.0, 'unit': 'U/L'},\n",
              " {'parameter': 'alanine transaminase', 'value': 22.0, 'unit': 'U/L'},\n",
              " {'parameter': 'Total Protein', 'value': 72.0, 'unit': 'g/L'},\n",
              " {'parameter': 'Albumin', 'value': 46.0, 'unit': 'g/L'},\n",
              " {'parameter': 'Rubella gamma globulin (CMIA)',\n",
              "  'value': 11.0,\n",
              "  'unit': 'IU/mL'},\n",
              " {'parameter': 'Vitamin D', 'value': 83.0, 'unit': 'nmol/L'},\n",
              " {'parameter': 'Ferritin', 'value': 47.0, 'unit': 'ug/L'},\n",
              " {'parameter': 'Albumin    H', 'value': 49.0, 'unit': 'g/L'},\n",
              " {'parameter': 'pH  Protein', 'value': 0.0, 'unit': 'Glucose 0'},\n",
              " {'parameter': 'Red Blood Cell Count', 'value': 0.0, 'unit': 'x10*6/L'},\n",
              " {'parameter': 'Sodium', 'value': 138.0, 'unit': 'mmol/L'},\n",
              " {'parameter': 'Chloride', 'value': 108.0, 'unit': 'mmol/L'},\n",
              " {'parameter': 'carbon dioxide', 'value': 23.0, 'unit': 'mmol/L'},\n",
              " {'parameter': 'creatine', 'value': 70.0, 'unit': 'umol/L'},\n",
              " {'parameter': 'Bili.Total H', 'value': 10.0, 'unit': 'umol/L'},\n",
              " {'parameter': 'alkaline phosphatase', 'value': 68.0, 'unit': 'U/L'},\n",
              " {'parameter': 'gamma-glutamyltransferase', 'value': 14.0, 'unit': 'U/L'},\n",
              " {'parameter': 'aspartate transaminase', 'value': 18.0, 'unit': 'U/L'},\n",
              " {'parameter': 'alanine transaminase', 'value': 15.0, 'unit': 'U/L'},\n",
              " {'parameter': 'Total Protein', 'value': 70.0, 'unit': 'g/L'},\n",
              " {'parameter': 'Albumin  H', 'value': 45.0, 'unit': 'g/L'},\n",
              " {'parameter': 'Albumin H', 'value': 49.0, 'unit': 'g/L'}]"
            ]
          },
          "metadata": {},
          "execution_count": 4
        }
      ]
    },
    {
      "cell_type": "code",
      "source": [],
      "metadata": {
        "id": "dNWVDmOA-Lyi"
      },
      "execution_count": null,
      "outputs": []
    }
  ]
}